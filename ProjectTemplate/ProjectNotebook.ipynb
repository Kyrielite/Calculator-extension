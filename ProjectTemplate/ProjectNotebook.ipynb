{
 "cells": [
  {
   "cell_type": "markdown",
   "metadata": {},
   "source": [
    "# Project Description"
   ]
  },
  {
   "cell_type": "markdown",
   "metadata": {},
   "source": [
    "For my project, I am extending code for a calculator that I have found online to add more functionality to it. I have added more functions to what the calculator can do. On top of doing the usual addition, subtraction, multiplication, and division, I added functions that allow the calculator to now be able to find the square of a number, find the square root of a number, as well as squaring a number with another number.\n",
    "\n",
    "I have also extended the code aesthetically as well to make it more appealing to the eyes as well as adding and updating the documentation of the source code to give more detail. I rearranged the positions of where some buttons are and gave the calculator more life to it by adding color. I have also modified this calculator to have it be able to be bigger while having the buttons move accordingly to how one expands the calculator, further increasing the viability of this calculator.\n",
    "\n",
    "This is the source code for the calculator that I have extended: https://bit.ly/2A63vB6\n",
    "\n",
    "As a note as well, I have written directions on how to test my calculator in my test_functions.py in the form of comments because my functions are directly connected to my GUI. I have consulted with a couple of TAs and they have concluded that this was the best method of going about my test_functions.py."
   ]
  },
  {
   "cell_type": "markdown",
   "metadata": {},
   "source": [
    "## Project Code\n",
    "\n",
    "If it makes sense for your project, you can have code and outputs here in the notebook as well."
   ]
  },
  {
   "cell_type": "markdown",
   "metadata": {
    "scrolled": true
   },
   "source": [
    "Because my functions are connected to my GUI, code cannot be provided here due to the limitations of this notebook."
   ]
  },
  {
   "cell_type": "markdown",
   "metadata": {},
   "source": [
    "#### Extra Credit (*optional*)\n",
    "\n",
    "Before starting this class, I had little to no background knowledge on coding in general. My only coding background knowledge was joining a coding club for a couple of weeks in highschool where we learned some HTML and CSS (which I unfortunately have forgotten most of it). For my project, I was challenged with learning all about tkinter and how it works. I also learned how to create a GUI and understand how it works because of this. Learning tkinter and how to create a GUI was something new that I had learned when completing this project."
   ]
  },
  {
   "cell_type": "code",
   "execution_count": null,
   "metadata": {},
   "outputs": [],
   "source": []
  }
 ],
 "metadata": {
  "kernelspec": {
   "display_name": "Python 3",
   "language": "python",
   "name": "python3"
  },
  "language_info": {
   "codemirror_mode": {
    "name": "ipython",
    "version": 3
   },
   "file_extension": ".py",
   "mimetype": "text/x-python",
   "name": "python",
   "nbconvert_exporter": "python",
   "pygments_lexer": "ipython3",
   "version": "3.7.6"
  }
 },
 "nbformat": 4,
 "nbformat_minor": 2
}
